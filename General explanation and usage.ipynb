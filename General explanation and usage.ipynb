{
 "cells": [
  {
   "cell_type": "markdown",
   "id": "70b149aa",
   "metadata": {},
   "source": [
    "# General structure of the code:\n",
    "\n",
    "Main function takes in a melody (Soprano) and optionally a chord progression. It will try to generate a four-part harmony based on the general ruleset followed by Johann Sebastian Bach. These are the rules implemented in this program:\n",
    "\n",
    "<ul>\n",
    "    <li> Avoid consecutive octaves, fifths and unisons.\n",
    "    <li> Avoid movement larger than a fifth for the three highest voices (Soprano, Alto, Tenor).\n",
    "    <li> Maximum distance between voices is an octave for Soprano-Alto, Alto-Tenor, and an an octave+fifth for Tenor-Bass.\n",
    "    <li> If a chord contains the seventh, it has to be resolved downwards (often to the third of the next chord)\n",
    "    <li> Avoid doubling the third in the dominant chord.\n",
    "    <li> \n",
    "</ul>"
   ]
  },
  {
   "cell_type": "code",
   "execution_count": 25,
   "id": "8df36ccc",
   "metadata": {},
   "outputs": [],
   "source": [
    "import create_coral"
   ]
  }
 ],
 "metadata": {
  "kernelspec": {
   "display_name": "Python 3 (ipykernel)",
   "language": "python",
   "name": "python3"
  },
  "language_info": {
   "codemirror_mode": {
    "name": "ipython",
    "version": 3
   },
   "file_extension": ".py",
   "mimetype": "text/x-python",
   "name": "python",
   "nbconvert_exporter": "python",
   "pygments_lexer": "ipython3",
   "version": "3.8.3"
  }
 },
 "nbformat": 4,
 "nbformat_minor": 5
}
